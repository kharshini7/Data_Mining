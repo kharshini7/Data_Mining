{
 "cells": [
  {
   "cell_type": "markdown",
   "id": "ecc5c302",
   "metadata": {},
   "source": [
    "# Data Mining Assignment 1"
   ]
  },
  {
   "cell_type": "markdown",
   "id": "c7616a85",
   "metadata": {},
   "source": [
    "## Assignment Details\n",
    "\n",
    "In this assignment, you will conduct a guided exploration over the given dataset.\n",
    "\n",
    "You will prepare a **report** with the following outline for each one of the dataset. Look at the following Example.\n",
    "\n",
    "1.\tIntroduction\n",
    "\n",
    "2.\tRetrieving the Data\n",
    "\n",
    "3.\tGlimpse of Data\n",
    "\n",
    "4.\tCheck for missing data\n",
    "\n",
    "5.\tData Exploration\n",
    "\n",
    "\n",
    "You will learn and use some of the most common exploration/aggregation/descriptive operations. This should also help you learn most of the key functionalities in Python/Pandas, Weka and R. DO Task 1, Task 2, Task 3, Task 4 using Python/Pandas, Weka, R\n",
    " \n",
    "**Out of the 3 datasets listed below:**\n",
    "\n",
    "**1. Weather dataset should be solved using Python in Jupyter notebook only.**\n",
    "\n",
    "**2. Surgical dataset using WEKA**\n",
    "\n",
    "**3. Healthcare_stroke_dataset using R**\n",
    "\n",
    "\n",
    "You will also learn how to use visualization libraries to identify patterns in data that will help in your further data analysis. You will also explore most popular chart types and how to use different libraries and styles to make your visualizations more attractive.\n",
    "\n",
    "**Each code visualization and plotted needs to be explained in the 4 to 5 lines**"
   ]
  },
  {
   "cell_type": "code",
   "execution_count": null,
   "id": "3b9cfe86",
   "metadata": {},
   "outputs": [],
   "source": [
    "#TEAM MEMBER\n",
    "#PRATIK CHAVAN 1001963580\n",
    "#Harshini Kandimalla 1001960046\n",
    "#Pratik Antoni Patekar 1001937948"
   ]
  },
  {
   "cell_type": "markdown",
   "id": "0dfaa707",
   "metadata": {},
   "source": [
    "# Dataset Details\n",
    "\n",
    "In this assignment, you will work on health_stroke.csv\n",
    "The columns of the data-set are:\n",
    "\n",
    "* id\n",
    "* date\n",
    "* gender\n",
    "* age\n",
    "* hypertension\n",
    "* heart_disease\n",
    "* ever_married\n",
    "* work_type\n",
    "* Residence_type\n",
    "* avg_glucose_level\n",
    "* bmi\n",
    "* smoking_status\n",
    "* stroke"
   ]
  },
  {
   "cell_type": "code",
   "execution_count": 2,
   "id": "3af3aacb",
   "metadata": {},
   "outputs": [],
   "source": [
    "# Import R packages\n",
    "library(tidyverse)"
   ]
  },
  {
   "cell_type": "code",
   "execution_count": 3,
   "id": "dcdb07f1",
   "metadata": {},
   "outputs": [],
   "source": [
    "# Read the file\n",
    "dataset <- read.csv(\"healthcare_stroke_dataset.csv\")\n",
    "#print(dataset)\n",
    "#sum(is.na(dataset))\n",
    "#na.exclude(dataset)\n",
    "# reading the healthcare_stroke_dataset.csv file into a dataframe"
   ]
  },
  {
   "cell_type": "code",
   "execution_count": 3,
   "id": "fc2d7fce",
   "metadata": {},
   "outputs": [
    {
     "data": {
      "text/html": [
       "<table>\n",
       "<thead><tr><th scope=col>id</th><th scope=col>date</th><th scope=col>gender</th><th scope=col>age</th><th scope=col>hypertension</th><th scope=col>heart_disease</th><th scope=col>ever_married</th><th scope=col>work_type</th><th scope=col>Residence_type</th><th scope=col>avg_glucose_level</th><th scope=col>bmi</th><th scope=col>smoking_status</th><th scope=col>stroke</th></tr></thead>\n",
       "<tbody>\n",
       "\t<tr><td> 9046          </td><td>12/30/2020     </td><td>Male           </td><td>67             </td><td>0              </td><td>1              </td><td>Yes            </td><td>Private        </td><td>Urban          </td><td>228.69         </td><td>36.6           </td><td>formerly smoked</td><td>1              </td></tr>\n",
       "\t<tr><td>51676          </td><td>8/18/2020      </td><td>Female         </td><td>61             </td><td>0              </td><td>0              </td><td>Yes            </td><td>Self-employed  </td><td>Rural          </td><td>202.21         </td><td>  NA           </td><td>never smoked   </td><td>1              </td></tr>\n",
       "\t<tr><td>31112          </td><td>3/5/2020       </td><td>Male           </td><td>80             </td><td>0              </td><td>1              </td><td>Yes            </td><td>Private        </td><td>Rural          </td><td>105.92         </td><td>32.5           </td><td>never smoked   </td><td>1              </td></tr>\n",
       "\t<tr><td>60182          </td><td>7/8/2020       </td><td>Female         </td><td>49             </td><td>0              </td><td>0              </td><td>Yes            </td><td>Private        </td><td>Urban          </td><td>171.23         </td><td>34.4           </td><td>smokes         </td><td>1              </td></tr>\n",
       "\t<tr><td> 1665          </td><td>6/5/2020       </td><td>Female         </td><td>79             </td><td>1              </td><td>0              </td><td>Yes            </td><td>Self-employed  </td><td>Rural          </td><td>174.12         </td><td>24.0           </td><td>never smoked   </td><td>1              </td></tr>\n",
       "</tbody>\n",
       "</table>\n"
      ],
      "text/latex": [
       "\\begin{tabular}{r|lllllllllllll}\n",
       " id & date & gender & age & hypertension & heart\\_disease & ever\\_married & work\\_type & Residence\\_type & avg\\_glucose\\_level & bmi & smoking\\_status & stroke\\\\\n",
       "\\hline\n",
       "\t  9046           & 12/30/2020      & Male            & 67              & 0               & 1               & Yes             & Private         & Urban           & 228.69          & 36.6            & formerly smoked & 1              \\\\\n",
       "\t 51676           & 8/18/2020       & Female          & 61              & 0               & 0               & Yes             & Self-employed   & Rural           & 202.21          &   NA            & never smoked    & 1              \\\\\n",
       "\t 31112           & 3/5/2020        & Male            & 80              & 0               & 1               & Yes             & Private         & Rural           & 105.92          & 32.5            & never smoked    & 1              \\\\\n",
       "\t 60182           & 7/8/2020        & Female          & 49              & 0               & 0               & Yes             & Private         & Urban           & 171.23          & 34.4            & smokes          & 1              \\\\\n",
       "\t  1665           & 6/5/2020        & Female          & 79              & 1               & 0               & Yes             & Self-employed   & Rural           & 174.12          & 24.0            & never smoked    & 1              \\\\\n",
       "\\end{tabular}\n"
      ],
      "text/markdown": [
       "\n",
       "| id | date | gender | age | hypertension | heart_disease | ever_married | work_type | Residence_type | avg_glucose_level | bmi | smoking_status | stroke |\n",
       "|---|---|---|---|---|---|---|---|---|---|---|---|---|\n",
       "|  9046           | 12/30/2020      | Male            | 67              | 0               | 1               | Yes             | Private         | Urban           | 228.69          | 36.6            | formerly smoked | 1               |\n",
       "| 51676           | 8/18/2020       | Female          | 61              | 0               | 0               | Yes             | Self-employed   | Rural           | 202.21          |   NA            | never smoked    | 1               |\n",
       "| 31112           | 3/5/2020        | Male            | 80              | 0               | 1               | Yes             | Private         | Rural           | 105.92          | 32.5            | never smoked    | 1               |\n",
       "| 60182           | 7/8/2020        | Female          | 49              | 0               | 0               | Yes             | Private         | Urban           | 171.23          | 34.4            | smokes          | 1               |\n",
       "|  1665           | 6/5/2020        | Female          | 79              | 1               | 0               | Yes             | Self-employed   | Rural           | 174.12          | 24.0            | never smoked    | 1               |\n",
       "\n"
      ],
      "text/plain": [
       "  id    date       gender age hypertension heart_disease ever_married\n",
       "1  9046 12/30/2020 Male   67  0            1             Yes         \n",
       "2 51676 8/18/2020  Female 61  0            0             Yes         \n",
       "3 31112 3/5/2020   Male   80  0            1             Yes         \n",
       "4 60182 7/8/2020   Female 49  0            0             Yes         \n",
       "5  1665 6/5/2020   Female 79  1            0             Yes         \n",
       "  work_type     Residence_type avg_glucose_level bmi  smoking_status  stroke\n",
       "1 Private       Urban          228.69            36.6 formerly smoked 1     \n",
       "2 Self-employed Rural          202.21              NA never smoked    1     \n",
       "3 Private       Rural          105.92            32.5 never smoked    1     \n",
       "4 Private       Urban          171.23            34.4 smokes          1     \n",
       "5 Self-employed Rural          174.12            24.0 never smoked    1     "
      ]
     },
     "metadata": {},
     "output_type": "display_data"
    }
   ],
   "source": [
    "#return the first 5 rows of the datasetResidence_type\n",
    "head(dataset,5)\n",
    "\n",
    "#Displaying the first 5 rows of the dataframe"
   ]
  },
  {
   "cell_type": "code",
   "execution_count": 4,
   "id": "da331c20",
   "metadata": {},
   "outputs": [],
   "source": [
    "#Data Pre-processing for R\n",
    "#print(\"rows wih missing values before removing missing values\")\n",
    "#sum(is.na(dataset))\n",
    "#dataset = dataset[!(is.na(dataset$bmi) | dataset$smoking_status==\"-\"),]\n",
    "#print(\"rows wihout missing values after removing missing values\")\n",
    "#sum(is.na(dataset))\n",
    "# Explain each step in detail with reason"
   ]
  },
  {
   "cell_type": "code",
   "execution_count": 5,
   "id": "0dcb5c1b",
   "metadata": {},
   "outputs": [],
   "source": [
    "# Task 1: Statistical Exploratory Data Analysis"
   ]
  },
  {
   "cell_type": "code",
   "execution_count": 6,
   "id": "58a4b701",
   "metadata": {},
   "outputs": [
    {
     "name": "stdout",
     "output_type": "stream",
     "text": [
      "'data.frame':\t5110 obs. of  13 variables:\n",
      " $ id               : int  9046 51676 31112 60182 1665 56669 53882 10434 27419 60491 ...\n",
      " $ date             : Factor w/ 366 levels \"1/1/2020\",\"1/10/2020\",..: 116 315 179 304 270 245 299 4 238 259 ...\n",
      " $ gender           : Factor w/ 3 levels \"Female\",\"Male\",..: 2 1 2 1 1 2 2 1 1 1 ...\n",
      " $ age              : num  67 61 80 49 79 81 74 69 59 78 ...\n",
      " $ hypertension     : int  0 0 0 0 1 0 1 0 0 0 ...\n",
      " $ heart_disease    : int  1 0 1 0 0 0 1 0 0 0 ...\n",
      " $ ever_married     : Factor w/ 2 levels \"No\",\"Yes\": 2 2 2 2 2 2 2 1 2 2 ...\n",
      " $ work_type        : Factor w/ 5 levels \"children\",\"Govt_job\",..: 4 5 4 4 5 4 4 4 4 4 ...\n",
      " $ Residence_type   : Factor w/ 2 levels \"Rural\",\"Urban\": 2 1 1 2 1 2 1 2 1 2 ...\n",
      " $ avg_glucose_level: num  229 202 106 171 174 ...\n",
      " $ bmi              : num  36.6 NA 32.5 34.4 24 29 27.4 22.8 NA 24.2 ...\n",
      " $ smoking_status   : Factor w/ 4 levels \"-\",\"formerly smoked\",..: 2 3 3 4 3 2 3 3 1 1 ...\n",
      " $ stroke           : int  1 1 1 1 1 1 1 1 1 1 ...\n"
     ]
    },
    {
     "data": {
      "text/plain": [
       "       id                date         gender          age       \n",
       " Min.   :   67   6/9/2020  :  27   Female:2994   Min.   : 0.08  \n",
       " 1st Qu.:17741   5/9/2020  :  26   Male  :2115   1st Qu.:25.00  \n",
       " Median :36932   5/3/2020  :  25   Other :   1   Median :45.00  \n",
       " Mean   :36518   12/21/2020:  23                 Mean   :43.23  \n",
       " 3rd Qu.:54682   4/7/2020  :  23                 3rd Qu.:61.00  \n",
       " Max.   :72940   8/14/2020 :  23                 Max.   :82.00  \n",
       "                 (Other)   :4963                                \n",
       "  hypertension     heart_disease     ever_married         work_type   \n",
       " Min.   :0.00000   Min.   :0.00000   No :1757     children     : 687  \n",
       " 1st Qu.:0.00000   1st Qu.:0.00000   Yes:3353     Govt_job     : 657  \n",
       " Median :0.00000   Median :0.00000                Never_worked :  22  \n",
       " Mean   :0.09746   Mean   :0.05401                Private      :2925  \n",
       " 3rd Qu.:0.00000   3rd Qu.:0.00000                Self-employed: 819  \n",
       " Max.   :1.00000   Max.   :1.00000                                    \n",
       "                                                                      \n",
       " Residence_type avg_glucose_level      bmi                smoking_status\n",
       " Rural:2514     Min.   : 55.12    Min.   :10.30   -              :1544  \n",
       " Urban:2596     1st Qu.: 77.25    1st Qu.:23.50   formerly smoked: 885  \n",
       "                Median : 91.89    Median :28.10   never smoked   :1892  \n",
       "                Mean   :106.15    Mean   :28.89   smokes         : 789  \n",
       "                3rd Qu.:114.09    3rd Qu.:33.10                         \n",
       "                Max.   :271.74    Max.   :97.60                         \n",
       "                                  NA's   :201                           \n",
       "     stroke       \n",
       " Min.   :0.00000  \n",
       " 1st Qu.:0.00000  \n",
       " Median :0.00000  \n",
       " Mean   :0.04873  \n",
       " 3rd Qu.:0.00000  \n",
       " Max.   :1.00000  \n",
       "                  "
      ]
     },
     "metadata": {},
     "output_type": "display_data"
    }
   ],
   "source": [
    "#1-a Print the details of dataframe\n",
    "#print.data.frame(dataset)\n",
    "str(dataset)\n",
    "summary(dataset)\n",
    "\n",
    "#For the above task we have used the functions summary() and str()."
   ]
  },
  {
   "cell_type": "code",
   "execution_count": 7,
   "id": "ecb1bf2a",
   "metadata": {},
   "outputs": [
    {
     "name": "stdout",
     "output_type": "stream",
     "text": [
      "[1] \"Number of Rows in dataset are\"\n"
     ]
    },
    {
     "data": {
      "text/html": [
       "5110"
      ],
      "text/latex": [
       "5110"
      ],
      "text/markdown": [
       "5110"
      ],
      "text/plain": [
       "[1] 5110"
      ]
     },
     "metadata": {},
     "output_type": "display_data"
    },
    {
     "name": "stdout",
     "output_type": "stream",
     "text": [
      "[1] \"Number of Columns in dataset are\"\n"
     ]
    },
    {
     "data": {
      "text/html": [
       "13"
      ],
      "text/latex": [
       "13"
      ],
      "text/markdown": [
       "13"
      ],
      "text/plain": [
       "[1] 13"
      ]
     },
     "metadata": {},
     "output_type": "display_data"
    }
   ],
   "source": [
    "#1-b Find the number of rows and columns in dataset\n",
    "#\n",
    "print(\"Number of Rows in dataset are\")\n",
    "nrow(dataset)\n",
    "\n",
    "print(\"Number of Columns in dataset are\")\n",
    "ncol(dataset)\n",
    "\n",
    "#Used the nrows() and ncol() function to get the number of rows and columns."
   ]
  },
  {
   "cell_type": "code",
   "execution_count": 4,
   "id": "66c63718",
   "metadata": {},
   "outputs": [
    {
     "data": {
      "text/html": [
       "<dl class=dl-horizontal>\n",
       "\t<dt>Female</dt>\n",
       "\t\t<dd>2994</dd>\n",
       "\t<dt>Male</dt>\n",
       "\t\t<dd>2115</dd>\n",
       "\t<dt>Other</dt>\n",
       "\t\t<dd>1</dd>\n",
       "</dl>\n"
      ],
      "text/latex": [
       "\\begin{description*}\n",
       "\\item[Female] 2994\n",
       "\\item[Male] 2115\n",
       "\\item[Other] 1\n",
       "\\end{description*}\n"
      ],
      "text/markdown": [
       "Female\n",
       ":   2994Male\n",
       ":   2115Other\n",
       ":   1\n",
       "\n"
      ],
      "text/plain": [
       "Female   Male  Other \n",
       "  2994   2115      1 "
      ]
     },
     "metadata": {},
     "output_type": "display_data"
    }
   ],
   "source": [
    "#1-c Print descriptive detail of a column in dataset\n",
    "summary(dataset$gender)\n",
    "#printing the details for Column Gender from the dataset"
   ]
  },
  {
   "cell_type": "code",
   "execution_count": 5,
   "id": "ae3d7eff",
   "metadata": {
    "scrolled": true
   },
   "outputs": [
    {
     "name": "stdout",
     "output_type": "stream",
     "text": [
      "[1] \"Count of all Unique values for Column avg_glucose_level is\"\n"
     ]
    },
    {
     "data": {
      "text/html": [
       "3979"
      ],
      "text/latex": [
       "3979"
      ],
      "text/markdown": [
       "3979"
      ],
      "text/plain": [
       "[1] 3979"
      ]
     },
     "metadata": {},
     "output_type": "display_data"
    }
   ],
   "source": [
    "#1-d Find all the count of unique values for a 'avg_glucose_level' column in dataset\n",
    "\n",
    "print(\"Count of all Unique values for Column avg_glucose_level is\")\n",
    "length(unique(dataset$avg_glucose_level))\n",
    "\n",
    "#Used the unique command to get all unique values in the column"
   ]
  },
  {
   "cell_type": "code",
   "execution_count": 6,
   "id": "41ab5324",
   "metadata": {
    "scrolled": false
   },
   "outputs": [
    {
     "data": {
      "text/plain": [
       "\n",
       "Rural Urban \n",
       " 2514  2596 "
      ]
     },
     "metadata": {},
     "output_type": "display_data"
    },
    {
     "data": {
      "text/plain": [
       "\n",
       "   Rural    Urban \n",
       "49.19765 50.80235 "
      ]
     },
     "metadata": {},
     "output_type": "display_data"
    }
   ],
   "source": [
    "#1-d Find all percentage of 'Residence_type' for all the values\n",
    "\n",
    "#Counting the count for each Residence type\n",
    "x_cout <- table(dataset$Residence_type) \n",
    "x_cout\n",
    "\n",
    "#Getting the percentage of the Counts\n",
    "x_percent <- 100*x_cout / length(dataset$Residence_type)    # Creating percentage table\n",
    "x_percent\n",
    "\n",
    "#Used the table command to get the count of residence type and used it to calculate percentage for urban and rural residence type."
   ]
  },
  {
   "cell_type": "code",
   "execution_count": null,
   "id": "3e17b667",
   "metadata": {},
   "outputs": [],
   "source": [
    "# Task 2: Aggregation & Filtering & Rank "
   ]
  },
  {
   "cell_type": "code",
   "execution_count": 7,
   "id": "367f1563",
   "metadata": {
    "scrolled": false
   },
   "outputs": [
    {
     "data": {
      "text/plain": [
       "\n",
       "Female   Male  Other \n",
       "  2994   2115      1 "
      ]
     },
     "metadata": {},
     "output_type": "display_data"
    },
    {
     "data": {
      "text/html": [
       "'Female'"
      ],
      "text/latex": [
       "'Female'"
      ],
      "text/markdown": [
       "'Female'"
      ],
      "text/plain": [
       "[1] \"Female\""
      ]
     },
     "metadata": {},
     "output_type": "display_data"
    }
   ],
   "source": [
    "#Task 2-a: Find out the gender with largest number of records\n",
    "\n",
    "#Creating Table with Counts of gender values\n",
    "gender_count <- table(dataset$gender)\n",
    "gender_count\n",
    "#Finding the gender type with max number of records\n",
    "names(gender_count[gender_count==max(gender_count)])\n",
    "\n",
    "#Used the table command then compared it with other gender to get the max. "
   ]
  },
  {
   "cell_type": "code",
   "execution_count": 8,
   "id": "8d3d30a5",
   "metadata": {
    "scrolled": true
   },
   "outputs": [
    {
     "data": {
      "text/html": [
       "1067"
      ],
      "text/latex": [
       "1067"
      ],
      "text/markdown": [
       "1067"
      ],
      "text/plain": [
       "[1] 1067"
      ]
     },
     "metadata": {},
     "output_type": "display_data"
    }
   ],
   "source": [
    "#Task 2-b: Find out the total number of Residence_type \"Urban\" who are Male\n",
    "\n",
    "Male_Urban_resident <- subset(dataset, Residence_type==\"Urban\" & gender ==\"Male\")\n",
    "\n",
    "nrow(Male_Urban_resident)\n",
    "\n",
    "#Used subset command to sort the data based on residence type urban and are male.\n",
    "#The counted the number of rows\n"
   ]
  },
  {
   "cell_type": "code",
   "execution_count": 9,
   "id": "33420292",
   "metadata": {},
   "outputs": [
    {
     "data": {
      "text/html": [
       "<table>\n",
       "<thead><tr><th scope=col>age</th><th scope=col>avg_glucose_level</th></tr></thead>\n",
       "<tbody>\n",
       "\t<tr><td>68    </td><td>271.74</td></tr>\n",
       "\t<tr><td>49    </td><td>267.76</td></tr>\n",
       "\t<tr><td>76    </td><td>267.61</td></tr>\n",
       "\t<tr><td>76    </td><td>267.60</td></tr>\n",
       "\t<tr><td>60    </td><td>266.59</td></tr>\n",
       "\t<tr><td>67    </td><td>263.56</td></tr>\n",
       "\t<tr><td>71    </td><td>263.32</td></tr>\n",
       "\t<tr><td>62    </td><td>261.67</td></tr>\n",
       "\t<tr><td>67    </td><td>260.85</td></tr>\n",
       "\t<tr><td>80    </td><td>259.63</td></tr>\n",
       "</tbody>\n",
       "</table>\n"
      ],
      "text/latex": [
       "\\begin{tabular}{r|ll}\n",
       " age & avg\\_glucose\\_level\\\\\n",
       "\\hline\n",
       "\t 68     & 271.74\\\\\n",
       "\t 49     & 267.76\\\\\n",
       "\t 76     & 267.61\\\\\n",
       "\t 76     & 267.60\\\\\n",
       "\t 60     & 266.59\\\\\n",
       "\t 67     & 263.56\\\\\n",
       "\t 71     & 263.32\\\\\n",
       "\t 62     & 261.67\\\\\n",
       "\t 67     & 260.85\\\\\n",
       "\t 80     & 259.63\\\\\n",
       "\\end{tabular}\n"
      ],
      "text/markdown": [
       "\n",
       "| age | avg_glucose_level |\n",
       "|---|---|\n",
       "| 68     | 271.74 |\n",
       "| 49     | 267.76 |\n",
       "| 76     | 267.61 |\n",
       "| 76     | 267.60 |\n",
       "| 60     | 266.59 |\n",
       "| 67     | 263.56 |\n",
       "| 71     | 263.32 |\n",
       "| 62     | 261.67 |\n",
       "| 67     | 260.85 |\n",
       "| 80     | 259.63 |\n",
       "\n"
      ],
      "text/plain": [
       "   age avg_glucose_level\n",
       "1  68  271.74           \n",
       "2  49  267.76           \n",
       "3  76  267.61           \n",
       "4  76  267.60           \n",
       "5  60  266.59           \n",
       "6  67  263.56           \n",
       "7  71  263.32           \n",
       "8  62  261.67           \n",
       "9  67  260.85           \n",
       "10 80  259.63           "
      ]
     },
     "metadata": {},
     "output_type": "display_data"
    }
   ],
   "source": [
    "# Group by function for dataframe in R using pipe operator \n",
    "#2-c 1 question #Find the top 10 ages with highest av_glucose_level\n",
    "ans2c <- dataset  %>% select(age,avg_glucose_level)  %>% arrange(desc(avg_glucose_level))\n",
    "\n",
    "head(ans2c,10)\n",
    "\n",
    "#Used subset command to sort the data based on residence type urban and are male.\n",
    "#The counted the number of rows\n"
   ]
  },
  {
   "cell_type": "code",
   "execution_count": 10,
   "id": "7d9e14ee",
   "metadata": {},
   "outputs": [
    {
     "data": {
      "text/html": [
       "<table>\n",
       "<thead><tr><th scope=col>age</th><th scope=col>stroke</th></tr></thead>\n",
       "<tbody>\n",
       "\t<tr><td>78</td><td>21</td></tr>\n",
       "\t<tr><td>79</td><td>17</td></tr>\n",
       "\t<tr><td>80</td><td>17</td></tr>\n",
       "\t<tr><td>81</td><td>14</td></tr>\n",
       "\t<tr><td>57</td><td>11</td></tr>\n",
       "\t<tr><td>76</td><td>10</td></tr>\n",
       "\t<tr><td>63</td><td> 9</td></tr>\n",
       "\t<tr><td>68</td><td> 9</td></tr>\n",
       "\t<tr><td>74</td><td> 9</td></tr>\n",
       "\t<tr><td>82</td><td> 9</td></tr>\n",
       "</tbody>\n",
       "</table>\n"
      ],
      "text/latex": [
       "\\begin{tabular}{r|ll}\n",
       " age & stroke\\\\\n",
       "\\hline\n",
       "\t 78 & 21\\\\\n",
       "\t 79 & 17\\\\\n",
       "\t 80 & 17\\\\\n",
       "\t 81 & 14\\\\\n",
       "\t 57 & 11\\\\\n",
       "\t 76 & 10\\\\\n",
       "\t 63 &  9\\\\\n",
       "\t 68 &  9\\\\\n",
       "\t 74 &  9\\\\\n",
       "\t 82 &  9\\\\\n",
       "\\end{tabular}\n"
      ],
      "text/markdown": [
       "\n",
       "| age | stroke |\n",
       "|---|---|\n",
       "| 78 | 21 |\n",
       "| 79 | 17 |\n",
       "| 80 | 17 |\n",
       "| 81 | 14 |\n",
       "| 57 | 11 |\n",
       "| 76 | 10 |\n",
       "| 63 |  9 |\n",
       "| 68 |  9 |\n",
       "| 74 |  9 |\n",
       "| 82 |  9 |\n",
       "\n"
      ],
      "text/plain": [
       "   age stroke\n",
       "1  78  21    \n",
       "2  79  17    \n",
       "3  80  17    \n",
       "4  81  14    \n",
       "5  57  11    \n",
       "6  76  10    \n",
       "7  63   9    \n",
       "8  68   9    \n",
       "9  74   9    \n",
       "10 82   9    "
      ]
     },
     "metadata": {},
     "output_type": "display_data"
    }
   ],
   "source": [
    "#2-d 2nd question top 10 ages with more number of strokes\n",
    "#summary(dataset$stroke)\n",
    "\n",
    "ans3d1 <- dataset %>% select(age,stroke) %>% filter(stroke>=1) %>% group_by(age)\n",
    "\n",
    "ans3d2 <- aggregate(stroke ~ age, ans3d1, sum)  %>% arrange(desc(stroke))  \n",
    "head(ans3d2,10)\n",
    "\n",
    "#Used the pipe operator and filter the data with stroke data.\n",
    "#Then took sum of the stroke values and printed top 10 values.\n"
   ]
  },
  {
   "cell_type": "code",
   "execution_count": null,
   "id": "bc79fa5f",
   "metadata": {},
   "outputs": [],
   "source": [
    "##TASK 3: VISUALIZATION"
   ]
  },
  {
   "cell_type": "code",
   "execution_count": 11,
   "id": "66dfad03",
   "metadata": {},
   "outputs": [
    {
     "data": {
      "text/plain": [
       "        \n",
       "         Rural Urban\n",
       "  Female  1465  1529\n",
       "  Male    1048  1067\n",
       "  Other      1     0"
      ]
     },
     "metadata": {},
     "output_type": "display_data"
    },
    {
     "data": {
      "image/png": "[encoded data removed]",
      "text/plain": [
       "Plot with title \"Gender with count with residence type\""
      ]
     },
     "metadata": {},
     "output_type": "display_data"
    }
   ],
   "source": [
    "#task 3-a\n",
    "#Create barplot showing gender with count with residence type\n",
    "x = table(dataset$gender,dataset$Residence_type) \n",
    "x\n",
    "barplot(x, main=\"Gender with count with residence type\",\n",
    "   ylab=\"Count\",xlab = \"Residence Type\",col = c(\"blue\",\"cyan\",\"red\"),legend.text = rownames(x),beside = TRUE)\n"
   ]
  },
  {
   "cell_type": "code",
   "execution_count": 12,
   "id": "62ea18c4",
   "metadata": {
    "scrolled": false
   },
   "outputs": [
    {
     "data": {
      "image/png": "[encoded data removed]",
      "text/plain": [
       "Plot with title \"Pie Chart of smoking status\""
      ]
     },
     "metadata": {},
     "output_type": "display_data"
    }
   ],
   "source": [
    "#task 3-b\n",
    "#Display pie chart for the smoking status data \n",
    "\n",
    "library(plotrix)\n",
    "allstatustable <- table(dataset$smoking_status)\n",
    "statustable <- allstatustable[c(0,2:4)]\n",
    "lbls <- paste(\"\\n\",names(statustable), \"\\n\", statustable, sep=\"\")\n",
    "\n",
    "pie3D(statustable, labels = lbls,\n",
    "   main=\"Pie Chart of smoking status\",radius=0.9,explode=0.1)"
   ]
  },
  {
   "cell_type": "code",
   "execution_count": 13,
   "id": "481628aa",
   "metadata": {},
   "outputs": [
    {
     "data": {
      "image/png": "[encoded data removed]",
      "text/plain": [
       "Plot with title \"Stroke based on person's Age\""
      ]
     },
     "metadata": {},
     "output_type": "display_data"
    }
   ],
   "source": [
    "#Task4 finding an interesting pattern\n",
    "# atleast two visualization with explanation\n",
    "\n",
    "#Stroke based on persons Age\n",
    "\n",
    "data1 <- dataset %>% select(age,stroke) %>% filter(stroke>=1) %>% group_by(age)\n",
    "\n",
    "plotdata <- aggregate(stroke ~ age, data1, sum)  %>% arrange(desc(stroke))  \n",
    "\n",
    "\n",
    "plot(plotdata, main=\"Stroke based on person's Age\",\n",
    "   xlab=\"Age\", ylab=\"Strokes \", pch=16)\n",
    "\n",
    "#Here as you can see in graph we can analyze that people with age above 40 as seen to have strokes more often.\n"
   ]
  },
  {
   "cell_type": "code",
   "execution_count": 14,
   "id": "abca4522",
   "metadata": {},
   "outputs": [
    {
     "data": {
      "image/png": "[encoded data removed]",
      "text/plain": [
       "Plot with title \"Gender with count with residence type\""
      ]
     },
     "metadata": {},
     "output_type": "display_data"
    }
   ],
   "source": [
    "# work_type and Residence type\n",
    "workdata <- table(dataset$work_type,dataset$Residence_type)\n",
    "\n",
    "barplot(workdata, main=\"Gender with count with residence type\",\n",
    "   ylab=\"Number of people\",xlab = \"Residence Type\",legend.text = rownames(workdata),beside = TRUE)\n",
    "\n",
    "#People are working more in Private Sector than any other sector\n",
    "#We can also analyze that people working in each sector are almost the same in all the sector.\n"
   ]
  },
  {
   "cell_type": "markdown",
   "id": "a8b14924",
   "metadata": {},
   "source": [
    "## Report for R\n",
    "Report Explanation\n",
    "Create a report in a pdf file explaining the answer for task 2, 3 and 4<br>\n",
    "Note: the more detailed explanation the better"
   ]
  },
  {
   "cell_type": "markdown",
   "id": "8534a395",
   "metadata": {},
   "source": [
    "## Rubricks\n",
    "Task 1: 8 points<br>\n",
    "Task 2: 40 points<br>\n",
    "Task 3: 20 points<br>\n",
    "Task 4: 20 points<br>\n",
    "Report : 12 points<br>\n",
    "------------------------------------\n",
    "Total : 100 points<br>"
   ]
  }
 ],
 "metadata": {
  "kernelspec": {
   "display_name": "R",
   "language": "R",
   "name": "ir"
  },
  "language_info": {
   "codemirror_mode": "r",
   "file_extension": ".r",
   "mimetype": "text/x-r-source",
   "name": "R",
   "pygments_lexer": "r",
   "version": "3.6.1"
  }
 },
 "nbformat": 4,
 "nbformat_minor": 5
}
